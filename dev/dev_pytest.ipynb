{
 "cells": [
  {
   "cell_type": "code",
   "execution_count": null,
   "id": "17472a05-6b6d-464b-8746-f63caabad355",
   "metadata": {},
   "outputs": [],
   "source": [
    "!pip install \"C:/Users/mspat/Documents/GitHub/SciAugment/\""
   ]
  },
  {
   "cell_type": "code",
   "execution_count": null,
   "id": "81e5d719-a58a-4e65-8925-b89cd5ec7eba",
   "metadata": {},
   "outputs": [],
   "source": [
    "!pip install pytest"
   ]
  },
  {
   "cell_type": "code",
   "execution_count": null,
   "id": "d6431094-4999-4fee-bb06-163f4289d76f",
   "metadata": {},
   "outputs": [],
   "source": [
    "!pytest \"../tests/test_SciAug_tools.py\""
   ]
  },
  {
   "cell_type": "code",
   "execution_count": null,
   "id": "f0084ef1-8428-4e03-9147-5fc06b3b9b65",
   "metadata": {},
   "outputs": [],
   "source": []
  }
 ],
 "metadata": {
  "kernelspec": {
   "display_name": "Python 3 (ipykernel)",
   "language": "python",
   "name": "python3"
  },
  "language_info": {
   "codemirror_mode": {
    "name": "ipython",
    "version": 3
   },
   "file_extension": ".py",
   "mimetype": "text/x-python",
   "name": "python",
   "nbconvert_exporter": "python",
   "pygments_lexer": "ipython3",
   "version": "3.9.18"
  }
 },
 "nbformat": 4,
 "nbformat_minor": 5
}
