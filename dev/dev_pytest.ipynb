{
 "cells": [
  {
   "cell_type": "code",
   "execution_count": 1,
   "id": "17472a05-6b6d-464b-8746-f63caabad355",
   "metadata": {},
   "outputs": [
    {
     "name": "stdout",
     "output_type": "stream",
     "text": [
      "Processing c:\\users\\mspat\\documents\\github\\sciaugment\n",
      "  Preparing metadata (setup.py): started\n",
      "  Preparing metadata (setup.py): finished with status 'done'\n",
      "Requirement already satisfied: albumentations>=1.3.1 in c:\\users\\mspat\\.conda\\envs\\sadev\\lib\\site-packages (from SciAugment==0.2.0) (1.3.1)\n",
      "Requirement already satisfied: opencv-python-headless>=3.4.18.65 in c:\\users\\mspat\\.conda\\envs\\sadev\\lib\\site-packages (from SciAugment==0.2.0) (4.9.0.80)\n",
      "Requirement already satisfied: imgaug>=0.4.0 in c:\\users\\mspat\\.conda\\envs\\sadev\\lib\\site-packages (from SciAugment==0.2.0) (0.4.0)\n",
      "Requirement already satisfied: numpy>=1.11.1 in c:\\users\\mspat\\.conda\\envs\\sadev\\lib\\site-packages (from albumentations>=1.3.1->SciAugment==0.2.0) (1.26.4)\n",
      "Requirement already satisfied: scipy>=1.1.0 in c:\\users\\mspat\\.conda\\envs\\sadev\\lib\\site-packages (from albumentations>=1.3.1->SciAugment==0.2.0) (1.12.0)\n",
      "Requirement already satisfied: scikit-image>=0.16.1 in c:\\users\\mspat\\.conda\\envs\\sadev\\lib\\site-packages (from albumentations>=1.3.1->SciAugment==0.2.0) (0.22.0)\n",
      "Requirement already satisfied: PyYAML in c:\\users\\mspat\\.conda\\envs\\sadev\\lib\\site-packages (from albumentations>=1.3.1->SciAugment==0.2.0) (6.0.1)\n",
      "Requirement already satisfied: qudida>=0.0.4 in c:\\users\\mspat\\.conda\\envs\\sadev\\lib\\site-packages (from albumentations>=1.3.1->SciAugment==0.2.0) (0.0.4)\n",
      "Requirement already satisfied: six in c:\\users\\mspat\\.conda\\envs\\sadev\\lib\\site-packages (from imgaug>=0.4.0->SciAugment==0.2.0) (1.16.0)\n",
      "Requirement already satisfied: Pillow in c:\\users\\mspat\\.conda\\envs\\sadev\\lib\\site-packages (from imgaug>=0.4.0->SciAugment==0.2.0) (10.2.0)\n",
      "Requirement already satisfied: matplotlib in c:\\users\\mspat\\.conda\\envs\\sadev\\lib\\site-packages (from imgaug>=0.4.0->SciAugment==0.2.0) (3.8.3)\n",
      "Requirement already satisfied: opencv-python in c:\\users\\mspat\\.conda\\envs\\sadev\\lib\\site-packages (from imgaug>=0.4.0->SciAugment==0.2.0) (4.9.0.80)\n",
      "Requirement already satisfied: imageio in c:\\users\\mspat\\.conda\\envs\\sadev\\lib\\site-packages (from imgaug>=0.4.0->SciAugment==0.2.0) (2.34.0)\n",
      "Requirement already satisfied: Shapely in c:\\users\\mspat\\.conda\\envs\\sadev\\lib\\site-packages (from imgaug>=0.4.0->SciAugment==0.2.0) (2.0.2)\n",
      "Requirement already satisfied: scikit-learn>=0.19.1 in c:\\users\\mspat\\.conda\\envs\\sadev\\lib\\site-packages (from qudida>=0.0.4->albumentations>=1.3.1->SciAugment==0.2.0) (1.4.0)\n",
      "Requirement already satisfied: typing-extensions in c:\\users\\mspat\\.conda\\envs\\sadev\\lib\\site-packages (from qudida>=0.0.4->albumentations>=1.3.1->SciAugment==0.2.0) (4.9.0)\n",
      "Requirement already satisfied: networkx>=2.8 in c:\\users\\mspat\\.conda\\envs\\sadev\\lib\\site-packages (from scikit-image>=0.16.1->albumentations>=1.3.1->SciAugment==0.2.0) (3.2.1)\n",
      "Requirement already satisfied: tifffile>=2022.8.12 in c:\\users\\mspat\\.conda\\envs\\sadev\\lib\\site-packages (from scikit-image>=0.16.1->albumentations>=1.3.1->SciAugment==0.2.0) (2024.2.12)\n",
      "Requirement already satisfied: packaging>=21 in c:\\users\\mspat\\.conda\\envs\\sadev\\lib\\site-packages (from scikit-image>=0.16.1->albumentations>=1.3.1->SciAugment==0.2.0) (23.2)\n",
      "Requirement already satisfied: lazy_loader>=0.3 in c:\\users\\mspat\\.conda\\envs\\sadev\\lib\\site-packages (from scikit-image>=0.16.1->albumentations>=1.3.1->SciAugment==0.2.0) (0.3)\n",
      "Requirement already satisfied: contourpy>=1.0.1 in c:\\users\\mspat\\.conda\\envs\\sadev\\lib\\site-packages (from matplotlib->imgaug>=0.4.0->SciAugment==0.2.0) (1.2.0)\n",
      "Requirement already satisfied: cycler>=0.10 in c:\\users\\mspat\\.conda\\envs\\sadev\\lib\\site-packages (from matplotlib->imgaug>=0.4.0->SciAugment==0.2.0) (0.12.1)\n",
      "Requirement already satisfied: fonttools>=4.22.0 in c:\\users\\mspat\\.conda\\envs\\sadev\\lib\\site-packages (from matplotlib->imgaug>=0.4.0->SciAugment==0.2.0) (4.48.1)\n",
      "Requirement already satisfied: kiwisolver>=1.3.1 in c:\\users\\mspat\\.conda\\envs\\sadev\\lib\\site-packages (from matplotlib->imgaug>=0.4.0->SciAugment==0.2.0) (1.4.5)\n",
      "Requirement already satisfied: pyparsing>=2.3.1 in c:\\users\\mspat\\.conda\\envs\\sadev\\lib\\site-packages (from matplotlib->imgaug>=0.4.0->SciAugment==0.2.0) (3.1.1)\n",
      "Requirement already satisfied: python-dateutil>=2.7 in c:\\users\\mspat\\.conda\\envs\\sadev\\lib\\site-packages (from matplotlib->imgaug>=0.4.0->SciAugment==0.2.0) (2.8.2)\n",
      "Requirement already satisfied: importlib-resources>=3.2.0 in c:\\users\\mspat\\.conda\\envs\\sadev\\lib\\site-packages (from matplotlib->imgaug>=0.4.0->SciAugment==0.2.0) (6.1.1)\n",
      "Requirement already satisfied: zipp>=3.1.0 in c:\\users\\mspat\\.conda\\envs\\sadev\\lib\\site-packages (from importlib-resources>=3.2.0->matplotlib->imgaug>=0.4.0->SciAugment==0.2.0) (3.17.0)\n",
      "Requirement already satisfied: joblib>=1.2.0 in c:\\users\\mspat\\.conda\\envs\\sadev\\lib\\site-packages (from scikit-learn>=0.19.1->qudida>=0.0.4->albumentations>=1.3.1->SciAugment==0.2.0) (1.3.2)\n",
      "Requirement already satisfied: threadpoolctl>=2.0.0 in c:\\users\\mspat\\.conda\\envs\\sadev\\lib\\site-packages (from scikit-learn>=0.19.1->qudida>=0.0.4->albumentations>=1.3.1->SciAugment==0.2.0) (3.3.0)\n",
      "Building wheels for collected packages: SciAugment\n",
      "  Building wheel for SciAugment (setup.py): started\n",
      "  Building wheel for SciAugment (setup.py): finished with status 'done'\n",
      "  Created wheel for SciAugment: filename=SciAugment-0.2.0-py3-none-any.whl size=8628 sha256=5ef3ec02696fe30195736853cb684e2f94eb907a3222ce445f50298368808a36\n",
      "  Stored in directory: C:\\Users\\mspat\\AppData\\Local\\Temp\\pip-ephem-wheel-cache-6hsytzur\\wheels\\6b\\35\\69\\a7489ff0f9528c096e0c5d3ab43212ab7c2071198b7f3906f2\n",
      "Successfully built SciAugment\n",
      "Installing collected packages: SciAugment\n",
      "  Attempting uninstall: SciAugment\n",
      "    Found existing installation: SciAugment 0.2.0\n",
      "    Uninstalling SciAugment-0.2.0:\n",
      "      Successfully uninstalled SciAugment-0.2.0\n",
      "Successfully installed SciAugment-0.2.0\n"
     ]
    }
   ],
   "source": [
    "!pip install \"C:/Users/mspat/Documents/GitHub/SciAugment/\""
   ]
  },
  {
   "cell_type": "code",
   "execution_count": 2,
   "id": "81e5d719-a58a-4e65-8925-b89cd5ec7eba",
   "metadata": {},
   "outputs": [
    {
     "name": "stdout",
     "output_type": "stream",
     "text": [
      "Requirement already satisfied: pytest in c:\\users\\mspat\\.conda\\envs\\sadev\\lib\\site-packages (8.0.0)\n",
      "Requirement already satisfied: iniconfig in c:\\users\\mspat\\.conda\\envs\\sadev\\lib\\site-packages (from pytest) (2.0.0)\n",
      "Requirement already satisfied: packaging in c:\\users\\mspat\\.conda\\envs\\sadev\\lib\\site-packages (from pytest) (23.2)\n",
      "Requirement already satisfied: pluggy<2.0,>=1.3.0 in c:\\users\\mspat\\.conda\\envs\\sadev\\lib\\site-packages (from pytest) (1.4.0)\n",
      "Requirement already satisfied: exceptiongroup>=1.0.0rc8 in c:\\users\\mspat\\.conda\\envs\\sadev\\lib\\site-packages (from pytest) (1.2.0)\n",
      "Requirement already satisfied: tomli>=1.0.0 in c:\\users\\mspat\\.conda\\envs\\sadev\\lib\\site-packages (from pytest) (2.0.1)\n",
      "Requirement already satisfied: colorama in c:\\users\\mspat\\.conda\\envs\\sadev\\lib\\site-packages (from pytest) (0.4.6)\n"
     ]
    }
   ],
   "source": [
    "!pip install pytest"
   ]
  },
  {
   "cell_type": "code",
   "execution_count": 3,
   "id": "d6431094-4999-4fee-bb06-163f4289d76f",
   "metadata": {},
   "outputs": [
    {
     "name": "stdout",
     "output_type": "stream",
     "text": [
      "\u001b[1m============================= test session starts =============================\u001b[0m\n",
      "platform win32 -- Python 3.9.18, pytest-8.0.0, pluggy-1.4.0\n",
      "rootdir: C:\\Users\\mspat\\Documents\\GitHub\\SciAugment\n",
      "plugins: anyio-4.2.0\n",
      "collected 2 items\n",
      "\n",
      "..\\tests\\test_SciAug_tools.py \u001b[32m.\u001b[0m\u001b[32m.\u001b[0m\u001b[32m                                         [100%]\u001b[0m\n",
      "\n",
      "\u001b[32m============================== \u001b[32m\u001b[1m2 passed\u001b[0m\u001b[32m in 3.02s\u001b[0m\u001b[32m ==============================\u001b[0m\n"
     ]
    }
   ],
   "source": [
    "!pytest \"../tests/test_SciAug_tools.py\""
   ]
  },
  {
   "cell_type": "code",
   "execution_count": null,
   "id": "f0084ef1-8428-4e03-9147-5fc06b3b9b65",
   "metadata": {},
   "outputs": [],
   "source": []
  }
 ],
 "metadata": {
  "kernelspec": {
   "display_name": "Python 3 (ipykernel)",
   "language": "python",
   "name": "python3"
  },
  "language_info": {
   "codemirror_mode": {
    "name": "ipython",
    "version": 3
   },
   "file_extension": ".py",
   "mimetype": "text/x-python",
   "name": "python",
   "nbconvert_exporter": "python",
   "pygments_lexer": "ipython3",
   "version": "3.9.18"
  }
 },
 "nbformat": 4,
 "nbformat_minor": 5
}
