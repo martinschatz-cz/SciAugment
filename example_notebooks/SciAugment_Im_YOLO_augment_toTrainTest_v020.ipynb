{
  "nbformat": 4,
  "nbformat_minor": 0,
  "metadata": {
    "colab": {
      "name": "SciAugment_Im_YOLO_augment_toTrainTest_v020.ipynb",
      "provenance": [],
      "collapsed_sections": []
    },
    "kernelspec": {
      "name": "python3",
      "display_name": "Python 3"
    },
    "language_info": {
      "name": "python"
    }
  },
  "cells": [
    {
      "cell_type": "markdown",
      "source": [
        "# Example of SciAugment use for augmenting scientific images with YOLO anotations."
      ],
      "metadata": {
        "id": "c6kjXUtfpuSJ"
      }
    },
    {
      "cell_type": "markdown",
      "source": [
        "It uses albumentation (example of augmentation here: https://colab.research.google.com/drive/1JuZ23u0C0gx93kV0oJ8Mq0B6CBYhPLXy) and OpenCV. The goal is to create tools that make more sense for augmentation of scientific images. The way how the sensors capture data are important, and usualy the sensors and ways of capture are noc completely same as in capturing RGB data.\n",
        "\n",
        "Thoughtful augmentation should improve robustnes of object detection and clasification. Bad augmentation not respecting characteristics of the sensor and data information/statistic may lead to increased erors or low usability of final model."
      ],
      "metadata": {
        "id": "ltDEMeo7p0JG"
      }
    },
    {
      "cell_type": "markdown",
      "source": [
        "Clone SciAugment repository"
      ],
      "metadata": {
        "id": "8fujNP0yrwTm"
      }
    },
    {
      "cell_type": "markdown",
      "source": [
        "Install SciAugment packge"
      ],
      "metadata": {
        "id": "WeQQHFQqr0h-"
      }
    },
    {
      "cell_type": "code",
      "source": [
        "!pip install git+https://github.com/martinschatz-cz/SciAugment.git"
      ],
      "metadata": {
        "colab": {
          "base_uri": "https://localhost:8080/"
        },
        "id": "ET2a3gkhU3z8",
        "outputId": "0886d476-7d99-409c-ef8d-77db73ffb366"
      },
      "execution_count": 1,
      "outputs": [
        {
          "output_type": "stream",
          "name": "stdout",
          "text": [
            "Looking in indexes: https://pypi.org/simple, https://us-python.pkg.dev/colab-wheels/public/simple/\n",
            "Collecting git+https://github.com/martinschatz-cz/SciAugment.git\n",
            "  Cloning https://github.com/martinschatz-cz/SciAugment.git to /tmp/pip-req-build-k886mp6p\n",
            "  Running command git clone -q https://github.com/martinschatz-cz/SciAugment.git /tmp/pip-req-build-k886mp6p\n",
            "Building wheels for collected packages: SciAugment\n",
            "  Building wheel for SciAugment (setup.py) ... \u001b[?25l\u001b[?25hdone\n",
            "  Created wheel for SciAugment: filename=SciAugment-0.2.0-py3-none-any.whl size=7722 sha256=c533dd6b63e7d9a39fc890519583a080a0ff8ae28b36d1f16a5ba099be0dbc08\n",
            "  Stored in directory: /tmp/pip-ephem-wheel-cache-nhmafooa/wheels/e3/f2/f7/6ec27b09f03265b6b2ae37f1d22466f4acacf08008d6d97dde\n",
            "Successfully built SciAugment\n",
            "Installing collected packages: SciAugment\n",
            "Successfully installed SciAugment-0.2.0\n"
          ]
        }
      ]
    },
    {
      "cell_type": "markdown",
      "source": [
        "Import functions"
      ],
      "metadata": {
        "id": "A_wcxcZKr7O8"
      }
    },
    {
      "cell_type": "code",
      "source": [
        "from SciAugment.SciAug_tools import *"
      ],
      "metadata": {
        "id": "oNaY-6rbO7rj"
      },
      "execution_count": 2,
      "outputs": []
    },
    {
      "cell_type": "markdown",
      "source": [
        "Download subsection320.zip"
      ],
      "metadata": {
        "id": "rfsjNRkmr9z0"
      }
    },
    {
      "cell_type": "code",
      "source": [
        "!wget https://github.com/martinschatz-cz/SciAugment/raw/main/example_notebooks/subsection320.zip"
      ],
      "metadata": {
        "id": "0NX8TRjxPRMr",
        "colab": {
          "base_uri": "https://localhost:8080/"
        },
        "outputId": "1dedbc19-22a6-4432-cd15-23cd2e838ae0"
      },
      "execution_count": 3,
      "outputs": [
        {
          "output_type": "stream",
          "name": "stdout",
          "text": [
            "--2022-08-12 18:42:52--  https://github.com/martinschatz-cz/SciAugment/raw/main/example_notebooks/subsection320.zip\n",
            "Resolving github.com (github.com)... 140.82.113.4\n",
            "Connecting to github.com (github.com)|140.82.113.4|:443... connected.\n",
            "HTTP request sent, awaiting response... 302 Found\n",
            "Location: https://raw.githubusercontent.com/martinschatz-cz/SciAugment/main/example_notebooks/subsection320.zip [following]\n",
            "--2022-08-12 18:42:52--  https://raw.githubusercontent.com/martinschatz-cz/SciAugment/main/example_notebooks/subsection320.zip\n",
            "Resolving raw.githubusercontent.com (raw.githubusercontent.com)... 185.199.109.133, 185.199.108.133, 185.199.110.133, ...\n",
            "Connecting to raw.githubusercontent.com (raw.githubusercontent.com)|185.199.109.133|:443... connected.\n",
            "HTTP request sent, awaiting response... 200 OK\n",
            "Length: 105369 (103K) [application/zip]\n",
            "Saving to: ‘subsection320.zip’\n",
            "\n",
            "\rsubsection320.zip     0%[                    ]       0  --.-KB/s               \rsubsection320.zip   100%[===================>] 102.90K  --.-KB/s    in 0.003s  \n",
            "\n",
            "2022-08-12 18:42:53 (37.3 MB/s) - ‘subsection320.zip’ saved [105369/105369]\n",
            "\n"
          ]
        }
      ]
    },
    {
      "cell_type": "markdown",
      "source": [
        "Or unzip test folder (subsection320.zip) with subsection"
      ],
      "metadata": {
        "id": "AzaMxqJJ_mr-"
      }
    },
    {
      "cell_type": "code",
      "source": [
        "!unzip -q /content/subsection320.zip -d /content/"
      ],
      "metadata": {
        "id": "Coh4qyU2_mZn"
      },
      "execution_count": 4,
      "outputs": []
    },
    {
      "cell_type": "markdown",
      "source": [
        "Ideal tool for anotating images is https://www.makesense.ai/"
      ],
      "metadata": {
        "id": "d2Q6lLontpzF"
      }
    },
    {
      "cell_type": "markdown",
      "source": [
        "Specify folder with images and YOLO anotations and run default augmentation. The process will automaticaly create train_data folder and randomly divide the images an labels to train/test folder with 70/30 distribution. The percentage of train part can be specified.\n",
        "\n",
        "The default input format is .png (can be changed), and output format is .jpeg. The function expects images with three channels."
      ],
      "metadata": {
        "id": "c7AzRgNasEr1"
      }
    },
    {
      "cell_type": "markdown",
      "source": [
        "The ouput images have a name tag joined at the end of the name for better control over augmentatin.\n",
        "name (string): Name where relevant to position is bit length 11 for:\n",
        " *     1:Shift\n",
        " *     2:Scale\n",
        " *     3:Rotate\n",
        " *     4:VerticalFlip\n",
        " *     5:HorizontalFlip\n",
        " *     6:RandomContrast\n",
        " *     7:MultiplicativeNoise(multiplier=0.5, p=0.2)\n",
        " *     8:RandomSizedBBoxSafeCrop (250, 250, erosion_rate=0.0, interpolation=1, p=1.0)\n",
        " *     9:Blur(blur_limit=(50, 50), p=0)\n",
        " *     10:Transpose\n",
        " *     11:RandomRotate90\n",
        " *     12:RandomBrightness\n",
        "\n",
        " suffix for channel augmentation:\n",
        "\n",
        "*          No Channel Augmentation **-NA**\n",
        "*          RandomBrightnessContrast(contrast_limit=0.2,p=1) **-RC**\n",
        "*          MultiplicativeNoise(multiplier=0.5, p=1) **-MN**\n",
        "*          Blur(blur_limit=(10, 10), p=)1 **-B**\n",
        "*          RandomBrightnessContrast(brightness_limit=0.2,p=1) **-RB**\n",
        "*          Superpixels **-SP**\n",
        "*          GaussNoise **-GN**"
      ],
      "metadata": {
        "id": "Yy-gt0XttJGc"
      }
    },
    {
      "cell_type": "code",
      "source": [
        "#@markdown Specifie a path to folder with images and YOLO anotations\n",
        "input_images_folder = '/content/subsection320/'  # @param{type: 'string'}\n",
        "input_image_format = '.jpeg'  # @param{type: 'string'}\n"
      ],
      "metadata": {
        "collapsed": true,
        "cellView": "form",
        "id": "sDVsmul_UEbt"
      },
      "execution_count": 5,
      "outputs": []
    },
    {
      "cell_type": "markdown",
      "source": [
        "For reproducible train/test distribution, select specific seed for random numbers."
      ],
      "metadata": {
        "id": "3MdHmyyMYkDr"
      }
    },
    {
      "cell_type": "code",
      "source": [
        "random.seed(7)"
      ],
      "metadata": {
        "id": "HBokoLdvYWzE"
      },
      "execution_count": 6,
      "outputs": []
    },
    {
      "cell_type": "markdown",
      "source": [
        "Create default augmentation object.\n",
        "\n",
        "Default augmentation does not augment brightness, as Albumentations package offers mainly RGB augmentation - which is not always usable for multi channel scientific images.\n",
        "\n",
        "It will notify user about selected augmentation. Each augmentation will create one new image and label."
      ],
      "metadata": {
        "id": "Rax6E6LhVynO"
      }
    },
    {
      "cell_type": "code",
      "source": [
        "aug1 = SciAugment()"
      ],
      "metadata": {
        "colab": {
          "base_uri": "https://localhost:8080/"
        },
        "id": "FoX2KMJiV2bG",
        "outputId": "fb50b718-2dfa-460d-e8ae-1a7c7ac9d428"
      },
      "execution_count": 7,
      "outputs": [
        {
          "output_type": "stream",
          "name": "stdout",
          "text": [
            "New instance of SciAugment.\n",
            "Selected augmentation type: Default\n",
            "\n",
            "\n",
            "Version: 0.2.0\n",
            "\n",
            "\n",
            "Selected augmentation:\n",
            "no augmentation\n",
            "HorizontalFlip(p=1)\n",
            "RandomSizedBBoxSafeCrop(250, 250, erosion_rate=0.0, interpolation=1, p=1.0)\n",
            "Transpose(1)\n",
            "RandomRotate90(p=1)\n",
            "ShiftScaleRotate(p=1)\n",
            "VerticalFlip(p=1)\n"
          ]
        }
      ]
    },
    {
      "cell_type": "markdown",
      "source": [
        "Apply augmentatin on selected folder of images and YOLO labels (if there already exists train_folder, the function will stop)."
      ],
      "metadata": {
        "id": "jAu0obZwWGMd"
      }
    },
    {
      "cell_type": "code",
      "source": [
        "aug1.augment_data(images_path=input_images_folder, image_format=input_image_format)"
      ],
      "metadata": {
        "colab": {
          "base_uri": "https://localhost:8080/"
        },
        "id": "c1bdmVyQV6DO",
        "outputId": "99820c51-5133-433d-92a7-64de2d87f692"
      },
      "execution_count": 8,
      "outputs": [
        {
          "output_type": "stream",
          "name": "stdout",
          "text": [
            "Num of files: 63\n",
            "Processing: im_1.jpeg\n",
            "/content/subsection320/\n",
            "im_1.jpeg\n",
            "Processing: im_1.txt\n",
            "/content/subsection320/im_1.txt\n",
            "Writing im_1_0_000000000000.jpg\n",
            "Writing im_1_1_000010000000.jpg\n",
            "Writing im_1_2_000000010000.jpg\n",
            "Writing im_1_3_000000000100.jpg\n",
            "Writing im_1_4_000000000010.jpg\n",
            "Writing im_1_5_111000000000.jpg\n",
            "Writing im_1_6_000100000000.jpg\n",
            "Processing: im_10.jpeg\n",
            "/content/subsection320/\n",
            "im_10.jpeg\n",
            "Processing: im_10.txt\n",
            "/content/subsection320/im_10.txt\n",
            "Writing im_10_7_000000000000.jpg\n",
            "Writing im_10_8_000010000000.jpg\n",
            "Writing im_10_9_000000010000.jpg\n",
            "Writing im_10_10_000000000100.jpg\n",
            "Writing im_10_11_000000000010.jpg\n",
            "Writing im_10_12_111000000000.jpg\n",
            "Writing im_10_13_000100000000.jpg\n",
            "Processing: im_11.jpeg\n",
            "/content/subsection320/\n",
            "im_11.jpeg\n",
            "Processing: im_11.txt\n",
            "/content/subsection320/im_11.txt\n",
            "Writing im_11_14_000000000000.jpg\n",
            "Writing im_11_15_000010000000.jpg\n",
            "Writing im_11_16_000000010000.jpg\n",
            "Writing im_11_17_000000000100.jpg\n",
            "Writing im_11_18_000000000010.jpg\n",
            "Writing im_11_19_111000000000.jpg\n",
            "Writing im_11_20_000100000000.jpg\n",
            "Processing: im_12.jpeg\n",
            "/content/subsection320/\n",
            "im_12.jpeg\n",
            "Processing: im_12.txt\n",
            "/content/subsection320/im_12.txt\n",
            "Writing im_12_21_000000000000.jpg\n",
            "Writing im_12_22_000010000000.jpg\n",
            "Writing im_12_23_000000010000.jpg\n",
            "Writing im_12_24_000000000100.jpg\n",
            "Writing im_12_25_000000000010.jpg\n",
            "Writing im_12_26_111000000000.jpg\n",
            "Writing im_12_27_000100000000.jpg\n",
            "Processing: im_13.jpeg\n",
            "/content/subsection320/\n",
            "im_13.jpeg\n",
            "Processing: im_13.txt\n",
            "/content/subsection320/im_13.txt\n",
            "Writing im_13_28_000000000000.jpg\n",
            "Writing im_13_29_000010000000.jpg\n",
            "Writing im_13_30_000000010000.jpg\n",
            "Writing im_13_31_000000000100.jpg\n",
            "Writing im_13_32_000000000010.jpg\n",
            "Writing im_13_33_111000000000.jpg\n",
            "Writing im_13_34_000100000000.jpg\n",
            "Processing: im_14.jpeg\n",
            "/content/subsection320/\n",
            "im_14.jpeg\n",
            "Processing: im_14.txt\n",
            "/content/subsection320/im_14.txt\n",
            "Writing im_14_35_000000000000.jpg\n",
            "Writing im_14_36_000010000000.jpg\n",
            "Writing im_14_37_000000010000.jpg\n",
            "Writing im_14_38_000000000100.jpg\n",
            "Writing im_14_39_000000000010.jpg\n",
            "Writing im_14_40_111000000000.jpg\n",
            "Writing im_14_41_000100000000.jpg\n",
            "Processing: im_15.jpeg\n",
            "/content/subsection320/\n",
            "im_15.jpeg\n",
            "Processing: im_15.txt\n",
            "/content/subsection320/im_15.txt\n",
            "Writing im_15_42_000000000000.jpg\n",
            "Writing im_15_43_000010000000.jpg\n",
            "Writing im_15_44_000000010000.jpg\n",
            "Writing im_15_45_000000000100.jpg\n",
            "Writing im_15_46_000000000010.jpg\n",
            "Writing im_15_47_111000000000.jpg\n",
            "Writing im_15_48_000100000000.jpg\n",
            "Processing: im_16.jpeg\n",
            "/content/subsection320/\n",
            "im_16.jpeg\n",
            "Processing: im_16.txt\n",
            "/content/subsection320/im_16.txt\n",
            "Writing im_16_49_000000000000.jpg\n",
            "Writing im_16_50_000010000000.jpg\n",
            "Writing im_16_51_000000010000.jpg\n",
            "Writing im_16_52_000000000100.jpg\n",
            "Writing im_16_53_000000000010.jpg\n",
            "Writing im_16_54_111000000000.jpg\n",
            "Writing im_16_55_000100000000.jpg\n",
            "Processing: im_17.jpeg\n",
            "/content/subsection320/\n",
            "im_17.jpeg\n",
            "Processing: im_17.txt\n",
            "/content/subsection320/im_17.txt\n",
            "Writing im_17_56_000000000000.jpg\n",
            "Writing im_17_57_000010000000.jpg\n",
            "Writing im_17_58_000000010000.jpg\n",
            "Writing im_17_59_000000000100.jpg\n",
            "Writing im_17_60_000000000010.jpg\n",
            "Writing im_17_61_111000000000.jpg\n",
            "Writing im_17_62_000100000000.jpg\n",
            "Processing: im_18.jpeg\n",
            "/content/subsection320/\n",
            "im_18.jpeg\n",
            "Processing: im_18.txt\n",
            "/content/subsection320/im_18.txt\n",
            "Writing im_18_63_000000000000.jpg\n",
            "Writing im_18_64_000010000000.jpg\n",
            "Writing im_18_65_000000010000.jpg\n",
            "Writing im_18_66_000000000100.jpg\n",
            "Writing im_18_67_000000000010.jpg\n",
            "Writing im_18_68_111000000000.jpg\n",
            "Writing im_18_69_000100000000.jpg\n",
            "Processing: im_19.jpeg\n",
            "/content/subsection320/\n",
            "im_19.jpeg\n",
            "Processing: im_19.txt\n",
            "/content/subsection320/im_19.txt\n",
            "Writing im_19_70_000000000000.jpg\n",
            "Writing im_19_71_000010000000.jpg\n",
            "Writing im_19_72_000000010000.jpg\n",
            "Writing im_19_73_000000000100.jpg\n",
            "Writing im_19_74_000000000010.jpg\n",
            "Writing im_19_75_111000000000.jpg\n",
            "Writing im_19_76_000100000000.jpg\n",
            "Processing: im_2.jpeg\n",
            "/content/subsection320/\n",
            "im_2.jpeg\n",
            "Processing: im_2.txt\n",
            "/content/subsection320/im_2.txt\n",
            "Writing im_2_77_000000000000.jpg\n",
            "Writing im_2_78_000010000000.jpg\n",
            "Writing im_2_79_000000010000.jpg\n",
            "Writing im_2_80_000000000100.jpg\n",
            "Writing im_2_81_000000000010.jpg\n",
            "Writing im_2_82_111000000000.jpg\n",
            "Writing im_2_83_000100000000.jpg\n",
            "Processing: im_20.jpeg\n",
            "/content/subsection320/\n",
            "im_20.jpeg\n",
            "Processing: im_20.txt\n",
            "/content/subsection320/im_20.txt\n",
            "Writing im_20_84_000000000000.jpg\n",
            "Writing im_20_85_000010000000.jpg\n",
            "Writing im_20_86_000000010000.jpg\n",
            "Writing im_20_87_000000000100.jpg\n",
            "Writing im_20_88_000000000010.jpg\n",
            "Writing im_20_89_111000000000.jpg\n",
            "Writing im_20_90_000100000000.jpg\n",
            "Processing: im_21.jpeg\n",
            "/content/subsection320/\n",
            "im_21.jpeg\n",
            "Processing: im_21.txt\n",
            "/content/subsection320/im_21.txt\n",
            "Writing im_21_91_000000000000.jpg\n",
            "Writing im_21_92_000010000000.jpg\n",
            "Writing im_21_93_000000010000.jpg\n",
            "Writing im_21_94_000000000100.jpg\n",
            "Writing im_21_95_000000000010.jpg\n",
            "Writing im_21_96_111000000000.jpg\n",
            "Writing im_21_97_000100000000.jpg\n",
            "Processing: im_22.jpeg\n",
            "/content/subsection320/\n",
            "im_22.jpeg\n",
            "Processing: im_22.txt\n",
            "/content/subsection320/im_22.txt\n",
            "Writing im_22_98_000000000000.jpg\n",
            "Writing im_22_99_000010000000.jpg\n",
            "Writing im_22_100_000000010000.jpg\n",
            "Writing im_22_101_000000000100.jpg\n",
            "Writing im_22_102_000000000010.jpg\n",
            "Writing im_22_103_111000000000.jpg\n",
            "Writing im_22_104_000100000000.jpg\n",
            "Processing: im_23.jpeg\n",
            "/content/subsection320/\n",
            "im_23.jpeg\n",
            "Processing: im_23.txt\n",
            "/content/subsection320/im_23.txt\n",
            "Writing im_23_105_000000000000.jpg\n",
            "Writing im_23_106_000010000000.jpg\n",
            "Writing im_23_107_000000010000.jpg\n",
            "Writing im_23_108_000000000100.jpg\n",
            "Writing im_23_109_000000000010.jpg\n",
            "Writing im_23_110_111000000000.jpg\n",
            "Writing im_23_111_000100000000.jpg\n",
            "Processing: im_24.jpeg\n",
            "/content/subsection320/\n",
            "im_24.jpeg\n",
            "Processing: im_24.txt\n",
            "/content/subsection320/im_24.txt\n",
            "Writing im_24_112_000000000000.jpg\n",
            "Writing im_24_113_000010000000.jpg\n",
            "Writing im_24_114_000000010000.jpg\n",
            "Writing im_24_115_000000000100.jpg\n",
            "Writing im_24_116_000000000010.jpg\n",
            "Writing im_24_117_111000000000.jpg\n",
            "Writing im_24_118_000100000000.jpg\n",
            "Processing: im_25.jpeg\n",
            "/content/subsection320/\n",
            "im_25.jpeg\n",
            "Processing: im_25.txt\n",
            "/content/subsection320/im_25.txt\n",
            "Writing im_25_119_000000000000.jpg\n",
            "Writing im_25_120_000010000000.jpg\n",
            "Writing im_25_121_000000010000.jpg\n",
            "Writing im_25_122_000000000100.jpg\n",
            "Writing im_25_123_000000000010.jpg\n",
            "Writing im_25_124_111000000000.jpg\n",
            "Writing im_25_125_000100000000.jpg\n",
            "Processing: im_26.jpeg\n",
            "/content/subsection320/\n",
            "im_26.jpeg\n",
            "Processing: im_26.txt\n",
            "/content/subsection320/im_26.txt\n",
            "Writing im_26_126_000000000000.jpg\n",
            "Writing im_26_127_000010000000.jpg\n",
            "Writing im_26_128_000000010000.jpg\n",
            "Writing im_26_129_000000000100.jpg\n",
            "Writing im_26_130_000000000010.jpg\n",
            "Writing im_26_131_111000000000.jpg\n",
            "Writing im_26_132_000100000000.jpg\n",
            "Processing: im_27.jpeg\n",
            "/content/subsection320/\n",
            "im_27.jpeg\n",
            "Processing: im_27.txt\n",
            "/content/subsection320/im_27.txt\n",
            "Writing im_27_133_000000000000.jpg\n",
            "Writing im_27_134_000010000000.jpg\n",
            "Writing im_27_135_000000010000.jpg\n",
            "Writing im_27_136_000000000100.jpg\n",
            "Writing im_27_137_000000000010.jpg\n",
            "Writing im_27_138_111000000000.jpg\n",
            "Writing im_27_139_000100000000.jpg\n",
            "Processing: im_28.jpeg\n",
            "/content/subsection320/\n",
            "im_28.jpeg\n",
            "Processing: im_28.txt\n",
            "/content/subsection320/im_28.txt\n",
            "Writing im_28_140_000000000000.jpg\n",
            "Writing im_28_141_000010000000.jpg\n",
            "Writing im_28_142_000000010000.jpg\n",
            "Writing im_28_143_000000000100.jpg\n",
            "Writing im_28_144_000000000010.jpg\n",
            "Writing im_28_145_111000000000.jpg\n",
            "Writing im_28_146_000100000000.jpg\n",
            "Processing: im_29.jpeg\n",
            "/content/subsection320/\n",
            "im_29.jpeg\n",
            "Processing: im_29.txt\n",
            "/content/subsection320/im_29.txt\n",
            "Writing im_29_147_000000000000.jpg\n",
            "Writing im_29_148_000010000000.jpg\n",
            "Writing im_29_149_000000010000.jpg\n",
            "Writing im_29_150_000000000100.jpg\n",
            "Writing im_29_151_000000000010.jpg\n",
            "Writing im_29_152_111000000000.jpg\n",
            "Writing im_29_153_000100000000.jpg\n",
            "Processing: im_3.jpeg\n",
            "/content/subsection320/\n",
            "im_3.jpeg\n",
            "Processing: im_3.txt\n",
            "/content/subsection320/im_3.txt\n",
            "Writing im_3_154_000000000000.jpg\n",
            "Writing im_3_155_000010000000.jpg\n",
            "Writing im_3_156_000000010000.jpg\n",
            "Writing im_3_157_000000000100.jpg\n",
            "Writing im_3_158_000000000010.jpg\n",
            "Writing im_3_159_111000000000.jpg\n",
            "Writing im_3_160_000100000000.jpg\n",
            "Processing: im_30.jpeg\n",
            "/content/subsection320/\n",
            "im_30.jpeg\n",
            "Processing: im_30.txt\n",
            "/content/subsection320/im_30.txt\n",
            "Writing im_30_161_000000000000.jpg\n",
            "Writing im_30_162_000010000000.jpg\n",
            "Writing im_30_163_000000010000.jpg\n",
            "Writing im_30_164_000000000100.jpg\n",
            "Writing im_30_165_000000000010.jpg\n",
            "Writing im_30_166_111000000000.jpg\n",
            "Writing im_30_167_000100000000.jpg\n",
            "Processing: im_31.jpeg\n",
            "/content/subsection320/\n",
            "im_31.jpeg\n",
            "Processing: im_31.txt\n",
            "/content/subsection320/im_31.txt\n",
            "Writing im_31_168_000000000000.jpg\n",
            "Writing im_31_169_000010000000.jpg\n",
            "Writing im_31_170_000000010000.jpg\n",
            "Writing im_31_171_000000000100.jpg\n",
            "Writing im_31_172_000000000010.jpg\n",
            "Writing im_31_173_111000000000.jpg\n",
            "Writing im_31_174_000100000000.jpg\n",
            "Processing: im_4.jpeg\n",
            "/content/subsection320/\n",
            "im_4.jpeg\n",
            "Processing: im_4.txt\n",
            "/content/subsection320/im_4.txt\n",
            "Writing im_4_175_000000000000.jpg\n",
            "Writing im_4_176_000010000000.jpg\n",
            "Writing im_4_177_000000010000.jpg\n",
            "Writing im_4_178_000000000100.jpg\n",
            "Writing im_4_179_000000000010.jpg\n",
            "Writing im_4_180_111000000000.jpg\n",
            "Writing im_4_181_000100000000.jpg\n",
            "Processing: im_5.jpeg\n",
            "/content/subsection320/\n",
            "im_5.jpeg\n",
            "Processing: im_5.txt\n",
            "/content/subsection320/im_5.txt\n",
            "Writing im_5_182_000000000000.jpg\n",
            "Writing im_5_183_000010000000.jpg\n",
            "Writing im_5_184_000000010000.jpg\n",
            "Writing im_5_185_000000000100.jpg\n",
            "Writing im_5_186_000000000010.jpg\n",
            "Writing im_5_187_111000000000.jpg\n",
            "Writing im_5_188_000100000000.jpg\n",
            "Processing: im_6.jpeg\n",
            "/content/subsection320/\n",
            "im_6.jpeg\n",
            "Processing: im_6.txt\n",
            "/content/subsection320/im_6.txt\n",
            "Writing im_6_189_000000000000.jpg\n",
            "Writing im_6_190_000010000000.jpg\n",
            "Writing im_6_191_000000010000.jpg\n",
            "Writing im_6_192_000000000100.jpg\n",
            "Writing im_6_193_000000000010.jpg\n",
            "Writing im_6_194_111000000000.jpg\n",
            "Writing im_6_195_000100000000.jpg\n",
            "Processing: im_7.jpeg\n",
            "/content/subsection320/\n",
            "im_7.jpeg\n",
            "Processing: im_7.txt\n",
            "/content/subsection320/im_7.txt\n",
            "Writing im_7_196_000000000000.jpg\n",
            "Writing im_7_197_000010000000.jpg\n",
            "Writing im_7_198_000000010000.jpg\n",
            "Writing im_7_199_000000000100.jpg\n",
            "Writing im_7_200_000000000010.jpg\n",
            "Writing im_7_201_111000000000.jpg\n",
            "Writing im_7_202_000100000000.jpg\n",
            "Processing: im_8.jpeg\n",
            "/content/subsection320/\n",
            "im_8.jpeg\n",
            "Processing: im_8.txt\n",
            "/content/subsection320/im_8.txt\n",
            "Writing im_8_203_000000000000.jpg\n",
            "Writing im_8_204_000010000000.jpg\n",
            "Writing im_8_205_000000010000.jpg\n",
            "Writing im_8_206_000000000100.jpg\n",
            "Writing im_8_207_000000000010.jpg\n",
            "Writing im_8_208_111000000000.jpg\n",
            "Writing im_8_209_000100000000.jpg\n",
            "Processing: im_9.jpeg\n",
            "/content/subsection320/\n",
            "im_9.jpeg\n",
            "Processing: im_9.txt\n",
            "/content/subsection320/im_9.txt\n",
            "Writing im_9_210_000000000000.jpg\n",
            "Writing im_9_211_000010000000.jpg\n",
            "Writing im_9_212_000000010000.jpg\n",
            "Writing im_9_213_000000000100.jpg\n",
            "Writing im_9_214_000000000010.jpg\n",
            "Writing im_9_215_111000000000.jpg\n",
            "Writing im_9_216_000100000000.jpg\n",
            "Processing: labels.txt\n",
            "Process created 217 images\n"
          ]
        }
      ]
    },
    {
      "cell_type": "markdown",
      "source": [
        "There exist another prepared version of augmentation (it will be tuned up in future after testing)"
      ],
      "metadata": {
        "id": "MFG_ziIlW0TZ"
      }
    },
    {
      "cell_type": "code",
      "source": [
        "aug2 = SciAugment(aug_type = 'fluorescece_microscopy', channel_aug = True)"
      ],
      "metadata": {
        "colab": {
          "base_uri": "https://localhost:8080/"
        },
        "id": "5QCtQuplW0yD",
        "outputId": "5423e0da-a87b-490d-9c96-cc8db967974e"
      },
      "execution_count": 9,
      "outputs": [
        {
          "output_type": "stream",
          "name": "stdout",
          "text": [
            "New instance of SciAugment.\n",
            "Selected augmentation type: fluorescece_microscopy\n",
            "\n",
            "\n",
            "Version: 0.2.0\n",
            "\n",
            "\n",
            "Selected augmentation:\n",
            "no augmentation\n",
            "HorizontalFlip(p=1)\n",
            "RandomBrightnessContrast(contrast_limit=0.2,p=1)\n",
            "MultiplicativeNoise(multiplier=0.5, p=1)\n",
            "RandomSizedBBoxSafeCrop(250, 250, erosion_rate=0.0, interpolation=1, p=1.0)\n",
            "Blur(blur_limit=(10, 10), p=0)\n",
            "Transpose(1)\n",
            "RandomRotate90(p=1)\n",
            "ShiftScaleRotate(p=1)\n",
            "VerticalFlip(p=1)\n",
            "\n",
            "\n",
            "Selected channel wise augmentation:\n",
            "no augmentation\n",
            "MultiplicativeNoise(multiplier=0.5, p=1)\n",
            "Blur(blur_limit=(10, 10), p=0)\n",
            "RandomBrightnessContrast(brightness_limit=0.2,p=1)\n",
            "Superpixels (p_replace=0.1, n_segments=20, max_size=64, interpolation=1, p=1)\n",
            "GaussNoise (var_limit=(10.0, 50.0), mean=0, p=1)\n"
          ]
        }
      ]
    },
    {
      "cell_type": "markdown",
      "source": [
        "It is possible to apply it in a same way (after renaming already existing train_data folder)"
      ],
      "metadata": {
        "id": "XL8T3LuiW56Z"
      }
    },
    {
      "cell_type": "code",
      "source": [
        "#aug2.augment_data(images_path=input_images_folder, image_format=input_image_format)"
      ],
      "metadata": {
        "id": "0cNpyu8xW6Qx"
      },
      "execution_count": 10,
      "outputs": []
    },
    {
      "cell_type": "markdown",
      "source": [
        "Use all augmentation"
      ],
      "metadata": {
        "id": "Y3GnyeGFUQHw"
      }
    },
    {
      "cell_type": "code",
      "source": [
        "aug3=SciAugment(aug_type = 'all')"
      ],
      "metadata": {
        "colab": {
          "base_uri": "https://localhost:8080/"
        },
        "id": "RlYE3RqKUVcu",
        "outputId": "b90a88e6-f23f-409f-f42b-358862fbb7f7"
      },
      "execution_count": 11,
      "outputs": [
        {
          "output_type": "stream",
          "name": "stdout",
          "text": [
            "New instance of SciAugment.\n",
            "Selected augmentation type: all\n",
            "\n",
            "\n",
            "Version: 0.2.0\n",
            "\n",
            "\n",
            "Selected augmentation:\n",
            "no augmentation\n",
            "HorizontalFlip(p=1)\n",
            "RandomBrightnessContrast(contrast_limit=0.2,p=1)\n",
            "MultiplicativeNoise(multiplier=0.5, p=1)\n",
            "RandomSizedBBoxSafeCrop(250, 250, erosion_rate=0.0, interpolation=1, p=1.0)\n",
            "Blur(blur_limit=(10, 10), p=0)\n",
            "Transpose(1)\n",
            "RandomRotate90(p=1)\n",
            "ShiftScaleRotate(p=1)\n",
            "VerticalFlip(p=1)\n"
          ]
        }
      ]
    },
    {
      "cell_type": "markdown",
      "source": [
        "Or dont augment and jsut prepare test/val dataset"
      ],
      "metadata": {
        "id": "ZEaq3B27UV82"
      }
    },
    {
      "cell_type": "code",
      "source": [
        "aug0 = SciAugment(aug_type = 'no_augment')"
      ],
      "metadata": {
        "colab": {
          "base_uri": "https://localhost:8080/"
        },
        "id": "d0WeAAGgUbP1",
        "outputId": "0403ddf7-471c-4a3b-9a3f-143f5b90f4cc"
      },
      "execution_count": 12,
      "outputs": [
        {
          "output_type": "stream",
          "name": "stdout",
          "text": [
            "New instance of SciAugment.\n",
            "Selected augmentation type: no_augment\n",
            "No augment setting will only divide images and labels to train_data folder.\n",
            "\n",
            "\n",
            "Version: 0.2.0\n",
            "\n",
            "\n",
            "Selected augmentation:\n",
            "no augmentation\n"
          ]
        }
      ]
    },
    {
      "cell_type": "markdown",
      "source": [
        "Or also apply augmentation per channel"
      ],
      "metadata": {
        "id": "Bc0_km0LU7VW"
      }
    },
    {
      "cell_type": "code",
      "source": [
        "# output_image_format = '.png'\n",
        "# aug2.augment_data_per_channel(images_path=input_images_folder, image_format=input_image_format, output_image_format=output_image_format)"
      ],
      "metadata": {
        "id": "CnLtJNPaU8Is"
      },
      "execution_count": 13,
      "outputs": []
    },
    {
      "cell_type": "markdown",
      "source": [
        "Now we have train_data directory ready to be used as training an validation with YOLO_v5 model. You can find preactical examples here: https://github.com/martinschatz-cz/SciCount"
      ],
      "metadata": {
        "id": "8EB5RzwTX5sc"
      }
    },
    {
      "cell_type": "markdown",
      "source": [
        "Zip up prepared train_data folder with augmented images and YOLO anotations for backup."
      ],
      "metadata": {
        "id": "V65pfqBLsMG8"
      }
    },
    {
      "cell_type": "code",
      "source": [
        "import shutil\n",
        "shutil.make_archive('train_data','zip','/content/', base_dir='train_data')"
      ],
      "metadata": {
        "colab": {
          "base_uri": "https://localhost:8080/",
          "height": 35
        },
        "id": "IeZoMwE5UH8N",
        "outputId": "261f024f-fbd6-4a8d-effa-ae82455c1307"
      },
      "execution_count": 14,
      "outputs": [
        {
          "output_type": "execute_result",
          "data": {
            "text/plain": [
              "'/content/train_data.zip'"
            ],
            "application/vnd.google.colaboratory.intrinsic+json": {
              "type": "string"
            }
          },
          "metadata": {},
          "execution_count": 14
        }
      ]
    },
    {
      "cell_type": "markdown",
      "source": [
        "Install and apply watermark"
      ],
      "metadata": {
        "id": "SRlvPZbmY9NL"
      }
    },
    {
      "cell_type": "code",
      "source": [
        "!pip install watermark\n",
        "\n",
        "%load_ext watermark"
      ],
      "metadata": {
        "colab": {
          "base_uri": "https://localhost:8080/"
        },
        "collapsed": true,
        "id": "niPYyctbUShM",
        "outputId": "450f6ca7-f06f-40cb-97bb-5229e1e9a3cc"
      },
      "execution_count": 15,
      "outputs": [
        {
          "output_type": "stream",
          "name": "stdout",
          "text": [
            "Looking in indexes: https://pypi.org/simple, https://us-python.pkg.dev/colab-wheels/public/simple/\n",
            "Collecting watermark\n",
            "  Downloading watermark-2.3.1-py2.py3-none-any.whl (7.2 kB)\n",
            "Requirement already satisfied: importlib-metadata>=1.4 in /usr/local/lib/python3.7/dist-packages (from watermark) (4.12.0)\n",
            "Requirement already satisfied: ipython in /usr/local/lib/python3.7/dist-packages (from watermark) (5.5.0)\n",
            "Requirement already satisfied: typing-extensions>=3.6.4 in /usr/local/lib/python3.7/dist-packages (from importlib-metadata>=1.4->watermark) (4.1.1)\n",
            "Requirement already satisfied: zipp>=0.5 in /usr/local/lib/python3.7/dist-packages (from importlib-metadata>=1.4->watermark) (3.8.1)\n",
            "Requirement already satisfied: pygments in /usr/local/lib/python3.7/dist-packages (from ipython->watermark) (2.6.1)\n",
            "Requirement already satisfied: setuptools>=18.5 in /usr/local/lib/python3.7/dist-packages (from ipython->watermark) (57.4.0)\n",
            "Requirement already satisfied: decorator in /usr/local/lib/python3.7/dist-packages (from ipython->watermark) (4.4.2)\n",
            "Requirement already satisfied: simplegeneric>0.8 in /usr/local/lib/python3.7/dist-packages (from ipython->watermark) (0.8.1)\n",
            "Requirement already satisfied: pexpect in /usr/local/lib/python3.7/dist-packages (from ipython->watermark) (4.8.0)\n",
            "Requirement already satisfied: traitlets>=4.2 in /usr/local/lib/python3.7/dist-packages (from ipython->watermark) (5.1.1)\n",
            "Requirement already satisfied: prompt-toolkit<2.0.0,>=1.0.4 in /usr/local/lib/python3.7/dist-packages (from ipython->watermark) (1.0.18)\n",
            "Requirement already satisfied: pickleshare in /usr/local/lib/python3.7/dist-packages (from ipython->watermark) (0.7.5)\n",
            "Requirement already satisfied: wcwidth in /usr/local/lib/python3.7/dist-packages (from prompt-toolkit<2.0.0,>=1.0.4->ipython->watermark) (0.2.5)\n",
            "Requirement already satisfied: six>=1.9.0 in /usr/local/lib/python3.7/dist-packages (from prompt-toolkit<2.0.0,>=1.0.4->ipython->watermark) (1.15.0)\n",
            "Requirement already satisfied: ptyprocess>=0.5 in /usr/local/lib/python3.7/dist-packages (from pexpect->ipython->watermark) (0.7.0)\n",
            "Installing collected packages: watermark\n",
            "Successfully installed watermark-2.3.1\n"
          ]
        }
      ]
    },
    {
      "cell_type": "code",
      "source": [
        "%watermark -v -p albumentations,opencv-python-headless,imgaug,cv2"
      ],
      "metadata": {
        "colab": {
          "base_uri": "https://localhost:8080/"
        },
        "id": "RfdrVMQ0UKC9",
        "outputId": "295c9429-71d9-4527-a3b0-197752102881"
      },
      "execution_count": 16,
      "outputs": [
        {
          "output_type": "stream",
          "name": "stdout",
          "text": [
            "Python implementation: CPython\n",
            "Python version       : 3.7.13\n",
            "IPython version      : 5.5.0\n",
            "\n",
            "albumentations        : 1.2.1\n",
            "opencv-python-headless: not installed\n",
            "imgaug                : 0.4.0\n",
            "cv2                   : 4.6.0\n",
            "\n"
          ]
        }
      ]
    },
    {
      "cell_type": "code",
      "source": [
        "!pip freeze > req.txt"
      ],
      "metadata": {
        "id": "GQjti6zWXRTv"
      },
      "execution_count": 17,
      "outputs": []
    }
  ]
}