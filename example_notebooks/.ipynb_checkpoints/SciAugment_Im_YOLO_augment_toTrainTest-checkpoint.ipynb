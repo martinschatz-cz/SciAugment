{
 "cells": [
  {
   "cell_type": "markdown",
   "metadata": {
    "id": "c6kjXUtfpuSJ"
   },
   "source": [
    "# Example of SciAugment use for augmenting scientific images with YOLO anotations."
   ]
  },
  {
   "cell_type": "markdown",
   "metadata": {
    "id": "ltDEMeo7p0JG"
   },
   "source": [
    "It uses albumentation (example of augmentation here: https://colab.research.google.com/drive/1JuZ23u0C0gx93kV0oJ8Mq0B6CBYhPLXy) and OpenCV. The goal is to create tools that make more sense for augmentation of scientific images. The way how the sensors capture data are important, and usualy the sensors and ways of capture are noc completely same as in capturing RGB data.\n",
    "\n",
    "Thoughtful augmentation should improve robustnes of object detection and clasification. Bad augmentation not respecting characteristics of the sensor and data information/statistic may lead to increased erors or low usability of final model."
   ]
  },
  {
   "cell_type": "markdown",
   "metadata": {
    "id": "8fujNP0yrwTm"
   },
   "source": [
    "Clone SciAugment repository"
   ]
  },
  {
   "cell_type": "code",
   "execution_count": 1,
   "metadata": {
    "colab": {
     "base_uri": "https://localhost:8080/"
    },
    "id": "ET2a3gkhU3z8",
    "outputId": "85290598-1e3d-48ad-c9ce-5320ff78d1df"
   },
   "outputs": [
    {
     "name": "stdout",
     "output_type": "stream",
     "text": [
      "Cloning into 'SciAugment'...\n",
      "remote: Enumerating objects: 53, done.\u001b[K\n",
      "remote: Counting objects: 100% (53/53), done.\u001b[K\n",
      "remote: Compressing objects: 100% (49/49), done.\u001b[K\n",
      "remote: Total 53 (delta 21), reused 0 (delta 0), pack-reused 0\u001b[K\n",
      "Unpacking objects: 100% (53/53), done.\n"
     ]
    }
   ],
   "source": [
    "!git clone https://github.com/martinschatz-cz/SciAugment.git"
   ]
  },
  {
   "cell_type": "markdown",
   "metadata": {
    "id": "WeQQHFQqr0h-"
   },
   "source": [
    "Install required packges"
   ]
  },
  {
   "cell_type": "code",
   "execution_count": null,
   "metadata": {
    "colab": {
     "base_uri": "https://localhost:8080/"
    },
    "id": "y6dTTV9DOvV-",
    "outputId": "223cb820-9e0a-40f0-85ed-a63a6af1f8d5"
   },
   "outputs": [],
   "source": [
    "!pip install -r /content/SciAugment/requirements.txt -v"
   ]
  },
  {
   "cell_type": "markdown",
   "metadata": {
    "id": "A_wcxcZKr7O8"
   },
   "source": [
    "Import functions"
   ]
  },
  {
   "cell_type": "code",
   "execution_count": 3,
   "metadata": {
    "id": "oNaY-6rbO7rj"
   },
   "outputs": [],
   "source": [
    "from SciAugment.utilities.SciAug_tools import *"
   ]
  },
  {
   "cell_type": "markdown",
   "metadata": {
    "id": "rfsjNRkmr9z0"
   },
   "source": [
    "Connect to Google Drive or upload folder with your images (if needed)."
   ]
  },
  {
   "cell_type": "code",
   "execution_count": 4,
   "metadata": {
    "id": "0NX8TRjxPRMr"
   },
   "outputs": [],
   "source": [
    "# from google.colab import drive\n",
    "# drive.mount('/content/gdrive')"
   ]
  },
  {
   "cell_type": "markdown",
   "metadata": {
    "id": "AzaMxqJJ_mr-"
   },
   "source": [
    "Or unzip test folder (subsection320.zip) with subsection"
   ]
  },
  {
   "cell_type": "code",
   "execution_count": 5,
   "metadata": {
    "id": "Coh4qyU2_mZn"
   },
   "outputs": [],
   "source": [
    "!unzip -q /content/subsection320.zip -d /content/"
   ]
  },
  {
   "cell_type": "markdown",
   "metadata": {
    "id": "d2Q6lLontpzF"
   },
   "source": [
    "Ideal tool for anotating images is https://www.makesense.ai/"
   ]
  },
  {
   "cell_type": "markdown",
   "metadata": {
    "id": "c7AzRgNasEr1"
   },
   "source": [
    "Specify folder with images and YOLO anotations and run default augmentation. The process will automaticaly create train_data folder and randomly divide the images an labels to train/test folder with 70/30 distribution. The percentage of train part can be specified.\n",
    "\n",
    "The default input format is .png (can be changed), and output format is .jpeg. The function expects images with three channels."
   ]
  },
  {
   "cell_type": "markdown",
   "metadata": {
    "id": "Yy-gt0XttJGc"
   },
   "source": [
    "The ouput images have a name tag joined at the end of the name for better control over augmentatin.\n",
    "name (string): Name where relevant to position is bit length 11 for:\n",
    " *     1:Shift\n",
    " *     2:Scale\n",
    " *     3:Rotate\n",
    " *     4:VerticalFlip\n",
    " *     5:HorizontalFlip\n",
    " *     6:RandomBrightnessContrast\n",
    " *     7:MultiplicativeNoise(multiplier=0.5, p=0.2)\n",
    " *     8:RandomSizedBBoxSafeCrop (250, 250, erosion_rate=0.0, interpolation=1, p=1.0)\n",
    " *     9:Blur(blur_limit=(50, 50), p=0)\n",
    " *     10:Transpose\n",
    " *     11:RandomRotate90"
   ]
  },
  {
   "cell_type": "code",
   "execution_count": 6,
   "metadata": {
    "cellView": "form",
    "collapsed": true,
    "id": "sDVsmul_UEbt",
    "jupyter": {
     "outputs_hidden": true
    }
   },
   "outputs": [],
   "source": [
    "# @markdown Specifie a path to folder with images and YOLO anotations\n",
    "input_images_folder = \"/content/subsection320/\"  # @param{type: 'string'}\n",
    "input_image_format = \".jpeg\"  # @param{type: 'string'}"
   ]
  },
  {
   "cell_type": "markdown",
   "metadata": {
    "id": "3MdHmyyMYkDr"
   },
   "source": [
    "For reproducible train/test distribution, select specific seed for random numbers."
   ]
  },
  {
   "cell_type": "code",
   "execution_count": 7,
   "metadata": {
    "id": "HBokoLdvYWzE"
   },
   "outputs": [],
   "source": [
    "random.seed(7)"
   ]
  },
  {
   "cell_type": "markdown",
   "metadata": {
    "id": "Rax6E6LhVynO"
   },
   "source": [
    "Create default augmentation object.\n",
    "\n",
    "Default augmentation does not augment brightness, as Albumentations package offers mainly RGB augmentation - which is not always usable for multi channel scientific images.\n",
    "\n",
    "It will notify user about selected augmentation. Each augmentation will create one new image and label."
   ]
  },
  {
   "cell_type": "code",
   "execution_count": 8,
   "metadata": {
    "colab": {
     "base_uri": "https://localhost:8080/"
    },
    "id": "FoX2KMJiV2bG",
    "outputId": "6dc89043-b2a3-4436-b275-530fba10511e"
   },
   "outputs": [
    {
     "name": "stdout",
     "output_type": "stream",
     "text": [
      "New instance of SciAugment.\n",
      "Selected augmentation type: Default\n",
      "\n",
      "\n",
      "Version: 0.1.0\n",
      "\n",
      "\n",
      "Selected augmentation:\n",
      "HorizontalFlip(p=1)\n",
      "RandomSizedBBoxSafeCrop(250, 250, erosion_rate=0.0, interpolation=1, p=1.0)\n",
      "Transpose(1)\n",
      "RandomRotate90(p=1)\n",
      "ShiftScaleRotate(p=1)\n",
      "VerticalFlip(p=1)\n"
     ]
    }
   ],
   "source": [
    "aug1 = SciAugment()"
   ]
  },
  {
   "cell_type": "markdown",
   "metadata": {
    "id": "jAu0obZwWGMd"
   },
   "source": [
    "Apply augmentatin on selected folder of images and YOLO labels (if there already exists train_folder, the function will stop)."
   ]
  },
  {
   "cell_type": "code",
   "execution_count": 9,
   "metadata": {
    "colab": {
     "base_uri": "https://localhost:8080/"
    },
    "id": "c1bdmVyQV6DO",
    "outputId": "c5692b89-5817-45f7-b1b6-ecaf459222fd"
   },
   "outputs": [
    {
     "name": "stdout",
     "output_type": "stream",
     "text": [
      "Num of files: 63\n",
      "Processing: im_1.jpeg\n",
      "/content/subsection320/\n",
      "im_1.jpeg\n",
      "Processing: im_1.txt\n",
      "/content/subsection320/im_1.txt\n",
      "Writing im_1_0_00001000000.jpg\n",
      "Writing im_1_1_00000001000.jpg\n",
      "Writing im_1_2_00000000010.jpg\n",
      "Writing im_1_3_00000000001.jpg\n",
      "Writing im_1_4_11100000000.jpg\n",
      "Writing im_1_5_00010000000.jpg\n",
      "Processing: im_10.jpeg\n",
      "/content/subsection320/\n",
      "im_10.jpeg\n",
      "Processing: im_10.txt\n",
      "/content/subsection320/im_10.txt\n",
      "Writing im_10_6_00001000000.jpg\n",
      "Writing im_10_7_00000001000.jpg\n",
      "Writing im_10_8_00000000010.jpg\n",
      "Writing im_10_9_00000000001.jpg\n",
      "Writing im_10_10_11100000000.jpg\n",
      "Writing im_10_11_00010000000.jpg\n",
      "Processing: im_11.jpeg\n",
      "/content/subsection320/\n",
      "im_11.jpeg\n",
      "Processing: im_11.txt\n",
      "/content/subsection320/im_11.txt\n",
      "Writing im_11_12_00001000000.jpg\n",
      "Writing im_11_13_00000001000.jpg\n",
      "Writing im_11_14_00000000010.jpg\n",
      "Writing im_11_15_00000000001.jpg\n",
      "Writing im_11_16_11100000000.jpg\n",
      "Writing im_11_17_00010000000.jpg\n",
      "Processing: im_12.jpeg\n",
      "/content/subsection320/\n",
      "im_12.jpeg\n",
      "Processing: im_12.txt\n",
      "/content/subsection320/im_12.txt\n",
      "Writing im_12_18_00001000000.jpg\n",
      "Writing im_12_19_00000001000.jpg\n",
      "Writing im_12_20_00000000010.jpg\n",
      "Writing im_12_21_00000000001.jpg\n",
      "Writing im_12_22_11100000000.jpg\n",
      "Writing im_12_23_00010000000.jpg\n",
      "Processing: im_13.jpeg\n",
      "/content/subsection320/\n",
      "im_13.jpeg\n",
      "Processing: im_13.txt\n",
      "/content/subsection320/im_13.txt\n",
      "Writing im_13_24_00001000000.jpg\n",
      "Writing im_13_25_00000001000.jpg\n",
      "Writing im_13_26_00000000010.jpg\n",
      "Writing im_13_27_00000000001.jpg\n",
      "Writing im_13_28_11100000000.jpg\n",
      "Writing im_13_29_00010000000.jpg\n",
      "Processing: im_14.jpeg\n",
      "/content/subsection320/\n",
      "im_14.jpeg\n",
      "Processing: im_14.txt\n",
      "/content/subsection320/im_14.txt\n",
      "Writing im_14_30_00001000000.jpg\n",
      "Writing im_14_31_00000001000.jpg\n",
      "Writing im_14_32_00000000010.jpg\n",
      "Writing im_14_33_00000000001.jpg\n",
      "Writing im_14_34_11100000000.jpg\n",
      "Writing im_14_35_00010000000.jpg\n",
      "Processing: im_15.jpeg\n",
      "/content/subsection320/\n",
      "im_15.jpeg\n",
      "Processing: im_15.txt\n",
      "/content/subsection320/im_15.txt\n",
      "Writing im_15_36_00001000000.jpg\n",
      "Writing im_15_37_00000001000.jpg\n",
      "Writing im_15_38_00000000010.jpg\n",
      "Writing im_15_39_00000000001.jpg\n",
      "Writing im_15_40_11100000000.jpg\n",
      "Writing im_15_41_00010000000.jpg\n",
      "Processing: im_16.jpeg\n",
      "/content/subsection320/\n",
      "im_16.jpeg\n",
      "Processing: im_16.txt\n",
      "/content/subsection320/im_16.txt\n",
      "Writing im_16_42_00001000000.jpg\n",
      "Writing im_16_43_00000001000.jpg\n",
      "Writing im_16_44_00000000010.jpg\n",
      "Writing im_16_45_00000000001.jpg\n",
      "Writing im_16_46_11100000000.jpg\n",
      "Writing im_16_47_00010000000.jpg\n",
      "Processing: im_17.jpeg\n",
      "/content/subsection320/\n",
      "im_17.jpeg\n",
      "Processing: im_17.txt\n",
      "/content/subsection320/im_17.txt\n",
      "Writing im_17_48_00001000000.jpg\n",
      "Writing im_17_49_00000001000.jpg\n",
      "Writing im_17_50_00000000010.jpg\n",
      "Writing im_17_51_00000000001.jpg\n",
      "Writing im_17_52_11100000000.jpg\n",
      "Writing im_17_53_00010000000.jpg\n",
      "Processing: im_18.jpeg\n",
      "/content/subsection320/\n",
      "im_18.jpeg\n",
      "Processing: im_18.txt\n",
      "/content/subsection320/im_18.txt\n",
      "Writing im_18_54_00001000000.jpg\n",
      "Writing im_18_55_00000001000.jpg\n",
      "Writing im_18_56_00000000010.jpg\n",
      "Writing im_18_57_00000000001.jpg\n",
      "Writing im_18_58_11100000000.jpg\n",
      "Writing im_18_59_00010000000.jpg\n",
      "Processing: im_19.jpeg\n",
      "/content/subsection320/\n",
      "im_19.jpeg\n",
      "Processing: im_19.txt\n",
      "/content/subsection320/im_19.txt\n",
      "Writing im_19_60_00001000000.jpg\n",
      "Writing im_19_61_00000001000.jpg\n",
      "Writing im_19_62_00000000010.jpg\n",
      "Writing im_19_63_00000000001.jpg\n",
      "Writing im_19_64_11100000000.jpg\n",
      "Writing im_19_65_00010000000.jpg\n",
      "Processing: im_2.jpeg\n",
      "/content/subsection320/\n",
      "im_2.jpeg\n",
      "Processing: im_2.txt\n",
      "/content/subsection320/im_2.txt\n",
      "Writing im_2_66_00001000000.jpg\n",
      "Writing im_2_67_00000001000.jpg\n",
      "Writing im_2_68_00000000010.jpg\n",
      "Writing im_2_69_00000000001.jpg\n",
      "Writing im_2_70_11100000000.jpg\n",
      "Writing im_2_71_00010000000.jpg\n",
      "Processing: im_20.jpeg\n",
      "/content/subsection320/\n",
      "im_20.jpeg\n",
      "Processing: im_20.txt\n",
      "/content/subsection320/im_20.txt\n",
      "Writing im_20_72_00001000000.jpg\n",
      "Writing im_20_73_00000001000.jpg\n",
      "Writing im_20_74_00000000010.jpg\n",
      "Writing im_20_75_00000000001.jpg\n",
      "Writing im_20_76_11100000000.jpg\n",
      "Writing im_20_77_00010000000.jpg\n",
      "Processing: im_21.jpeg\n",
      "/content/subsection320/\n",
      "im_21.jpeg\n",
      "Processing: im_21.txt\n",
      "/content/subsection320/im_21.txt\n",
      "Writing im_21_78_00001000000.jpg\n",
      "Writing im_21_79_00000001000.jpg\n",
      "Writing im_21_80_00000000010.jpg\n",
      "Writing im_21_81_00000000001.jpg\n",
      "Writing im_21_82_11100000000.jpg\n",
      "Writing im_21_83_00010000000.jpg\n",
      "Processing: im_22.jpeg\n",
      "/content/subsection320/\n",
      "im_22.jpeg\n",
      "Processing: im_22.txt\n",
      "/content/subsection320/im_22.txt\n",
      "Writing im_22_84_00001000000.jpg\n",
      "Writing im_22_85_00000001000.jpg\n",
      "Writing im_22_86_00000000010.jpg\n",
      "Writing im_22_87_00000000001.jpg\n",
      "Writing im_22_88_11100000000.jpg\n",
      "Writing im_22_89_00010000000.jpg\n",
      "Processing: im_23.jpeg\n",
      "/content/subsection320/\n",
      "im_23.jpeg\n",
      "Processing: im_23.txt\n",
      "/content/subsection320/im_23.txt\n",
      "Writing im_23_90_00001000000.jpg\n",
      "Writing im_23_91_00000001000.jpg\n",
      "Writing im_23_92_00000000010.jpg\n",
      "Writing im_23_93_00000000001.jpg\n",
      "Writing im_23_94_11100000000.jpg\n",
      "Writing im_23_95_00010000000.jpg\n",
      "Processing: im_24.jpeg\n",
      "/content/subsection320/\n",
      "im_24.jpeg\n",
      "Processing: im_24.txt\n",
      "/content/subsection320/im_24.txt\n",
      "Writing im_24_96_00001000000.jpg\n",
      "Writing im_24_97_00000001000.jpg\n",
      "Writing im_24_98_00000000010.jpg\n",
      "Writing im_24_99_00000000001.jpg\n",
      "Writing im_24_100_11100000000.jpg\n",
      "Writing im_24_101_00010000000.jpg\n",
      "Processing: im_25.jpeg\n",
      "/content/subsection320/\n",
      "im_25.jpeg\n",
      "Processing: im_25.txt\n",
      "/content/subsection320/im_25.txt\n",
      "Writing im_25_102_00001000000.jpg\n",
      "Writing im_25_103_00000001000.jpg\n",
      "Writing im_25_104_00000000010.jpg\n",
      "Writing im_25_105_00000000001.jpg\n",
      "Writing im_25_106_11100000000.jpg\n",
      "Writing im_25_107_00010000000.jpg\n",
      "Processing: im_26.jpeg\n",
      "/content/subsection320/\n",
      "im_26.jpeg\n",
      "Processing: im_26.txt\n",
      "/content/subsection320/im_26.txt\n",
      "Writing im_26_108_00001000000.jpg\n",
      "Writing im_26_109_00000001000.jpg\n",
      "Writing im_26_110_00000000010.jpg\n",
      "Writing im_26_111_00000000001.jpg\n",
      "Writing im_26_112_11100000000.jpg\n",
      "Writing im_26_113_00010000000.jpg\n",
      "Processing: im_27.jpeg\n",
      "/content/subsection320/\n",
      "im_27.jpeg\n",
      "Processing: im_27.txt\n",
      "/content/subsection320/im_27.txt\n",
      "Writing im_27_114_00001000000.jpg\n",
      "Writing im_27_115_00000001000.jpg\n",
      "Writing im_27_116_00000000010.jpg\n",
      "Writing im_27_117_00000000001.jpg\n",
      "Writing im_27_118_11100000000.jpg\n",
      "Writing im_27_119_00010000000.jpg\n",
      "Processing: im_28.jpeg\n",
      "/content/subsection320/\n",
      "im_28.jpeg\n",
      "Processing: im_28.txt\n",
      "/content/subsection320/im_28.txt\n",
      "Writing im_28_120_00001000000.jpg\n",
      "Writing im_28_121_00000001000.jpg\n",
      "Writing im_28_122_00000000010.jpg\n",
      "Writing im_28_123_00000000001.jpg\n",
      "Writing im_28_124_11100000000.jpg\n",
      "Writing im_28_125_00010000000.jpg\n",
      "Processing: im_29.jpeg\n",
      "/content/subsection320/\n",
      "im_29.jpeg\n",
      "Processing: im_29.txt\n",
      "/content/subsection320/im_29.txt\n",
      "Writing im_29_126_00001000000.jpg\n",
      "Writing im_29_127_00000001000.jpg\n",
      "Writing im_29_128_00000000010.jpg\n",
      "Writing im_29_129_00000000001.jpg\n",
      "Writing im_29_130_11100000000.jpg\n",
      "Writing im_29_131_00010000000.jpg\n",
      "Processing: im_3.jpeg\n",
      "/content/subsection320/\n",
      "im_3.jpeg\n",
      "Processing: im_3.txt\n",
      "/content/subsection320/im_3.txt\n",
      "Writing im_3_132_00001000000.jpg\n",
      "Writing im_3_133_00000001000.jpg\n",
      "Writing im_3_134_00000000010.jpg\n",
      "Writing im_3_135_00000000001.jpg\n",
      "Writing im_3_136_11100000000.jpg\n",
      "Writing im_3_137_00010000000.jpg\n",
      "Processing: im_30.jpeg\n",
      "/content/subsection320/\n",
      "im_30.jpeg\n",
      "Processing: im_30.txt\n",
      "/content/subsection320/im_30.txt\n",
      "Writing im_30_138_00001000000.jpg\n",
      "Writing im_30_139_00000001000.jpg\n",
      "Writing im_30_140_00000000010.jpg\n",
      "Writing im_30_141_00000000001.jpg\n",
      "Writing im_30_142_11100000000.jpg\n",
      "Writing im_30_143_00010000000.jpg\n",
      "Processing: im_31.jpeg\n",
      "/content/subsection320/\n",
      "im_31.jpeg\n",
      "Processing: im_31.txt\n",
      "/content/subsection320/im_31.txt\n",
      "Writing im_31_144_00001000000.jpg\n",
      "Writing im_31_145_00000001000.jpg\n",
      "Writing im_31_146_00000000010.jpg\n",
      "Writing im_31_147_00000000001.jpg\n",
      "Writing im_31_148_11100000000.jpg\n",
      "Writing im_31_149_00010000000.jpg\n",
      "Processing: im_4.jpeg\n",
      "/content/subsection320/\n",
      "im_4.jpeg\n",
      "Processing: im_4.txt\n",
      "/content/subsection320/im_4.txt\n",
      "Writing im_4_150_00001000000.jpg\n",
      "Writing im_4_151_00000001000.jpg\n",
      "Writing im_4_152_00000000010.jpg\n",
      "Writing im_4_153_00000000001.jpg\n",
      "Writing im_4_154_11100000000.jpg\n",
      "Writing im_4_155_00010000000.jpg\n",
      "Processing: im_5.jpeg\n",
      "/content/subsection320/\n",
      "im_5.jpeg\n",
      "Processing: im_5.txt\n",
      "/content/subsection320/im_5.txt\n",
      "Writing im_5_156_00001000000.jpg\n",
      "Writing im_5_157_00000001000.jpg\n",
      "Writing im_5_158_00000000010.jpg\n",
      "Writing im_5_159_00000000001.jpg\n",
      "Writing im_5_160_11100000000.jpg\n",
      "Writing im_5_161_00010000000.jpg\n",
      "Processing: im_6.jpeg\n",
      "/content/subsection320/\n",
      "im_6.jpeg\n",
      "Processing: im_6.txt\n",
      "/content/subsection320/im_6.txt\n",
      "Writing im_6_162_00001000000.jpg\n",
      "Writing im_6_163_00000001000.jpg\n",
      "Writing im_6_164_00000000010.jpg\n",
      "Writing im_6_165_00000000001.jpg\n",
      "Writing im_6_166_11100000000.jpg\n",
      "Writing im_6_167_00010000000.jpg\n",
      "Processing: im_7.jpeg\n",
      "/content/subsection320/\n",
      "im_7.jpeg\n",
      "Processing: im_7.txt\n",
      "/content/subsection320/im_7.txt\n",
      "Writing im_7_168_00001000000.jpg\n",
      "Writing im_7_169_00000001000.jpg\n",
      "Writing im_7_170_00000000010.jpg\n",
      "Writing im_7_171_00000000001.jpg\n",
      "Writing im_7_172_11100000000.jpg\n",
      "Writing im_7_173_00010000000.jpg\n",
      "Processing: im_8.jpeg\n",
      "/content/subsection320/\n",
      "im_8.jpeg\n",
      "Processing: im_8.txt\n",
      "/content/subsection320/im_8.txt\n",
      "Writing im_8_174_00001000000.jpg\n",
      "Writing im_8_175_00000001000.jpg\n",
      "Writing im_8_176_00000000010.jpg\n",
      "Writing im_8_177_00000000001.jpg\n",
      "Writing im_8_178_11100000000.jpg\n",
      "Writing im_8_179_00010000000.jpg\n",
      "Processing: im_9.jpeg\n",
      "/content/subsection320/\n",
      "im_9.jpeg\n",
      "Processing: im_9.txt\n",
      "/content/subsection320/im_9.txt\n",
      "Writing im_9_180_00001000000.jpg\n",
      "Writing im_9_181_00000001000.jpg\n",
      "Writing im_9_182_00000000010.jpg\n",
      "Writing im_9_183_00000000001.jpg\n",
      "Writing im_9_184_11100000000.jpg\n",
      "Writing im_9_185_00010000000.jpg\n",
      "Processing: labels.txt\n"
     ]
    }
   ],
   "source": [
    "aug1.augment_data(images_path=input_images_folder, image_format=input_image_format)"
   ]
  },
  {
   "cell_type": "markdown",
   "metadata": {
    "id": "MFG_ziIlW0TZ"
   },
   "source": [
    "There exist another prepared version of augmentation (it will be tuned up in future after testing)"
   ]
  },
  {
   "cell_type": "code",
   "execution_count": 10,
   "metadata": {
    "colab": {
     "base_uri": "https://localhost:8080/"
    },
    "id": "5QCtQuplW0yD",
    "outputId": "88b1e5ea-3641-43b7-d59e-88ee179c2f41"
   },
   "outputs": [
    {
     "name": "stdout",
     "output_type": "stream",
     "text": [
      "New instance of SciAugment.\n",
      "Selected augmentation type: fluorescece_microscopy\n",
      "\n",
      "\n",
      "Version: 0.1.0\n",
      "\n",
      "\n",
      "Selected augmentation:\n",
      "HorizontalFlip(p=1)\n",
      "RandomBrightnessContrast(p=1)\n",
      "MultiplicativeNoise(multiplier=0.5, p=0.2)\n",
      "RandomSizedBBoxSafeCrop(250, 250, erosion_rate=0.0, interpolation=1, p=1.0)\n",
      "Blur(blur_limit=(50, 50), p=0)\n",
      "Transpose(1)\n",
      "RandomRotate90(p=1)\n",
      "ShiftScaleRotate(p=1)\n"
     ]
    }
   ],
   "source": [
    "aug2 = SciAugment(aug_type=\"fluorescece_microscopy\")"
   ]
  },
  {
   "cell_type": "markdown",
   "metadata": {
    "id": "XL8T3LuiW56Z"
   },
   "source": [
    "It is possible to apply it in a same way (after renaming already existing train_data folder)"
   ]
  },
  {
   "cell_type": "code",
   "execution_count": 11,
   "metadata": {
    "id": "0cNpyu8xW6Qx"
   },
   "outputs": [],
   "source": [
    "# aug2.augment_data(images_path=input_images_folder, input_image_format='.jpeg')"
   ]
  },
  {
   "cell_type": "markdown",
   "metadata": {
    "id": "V65pfqBLsMG8"
   },
   "source": [
    "Zip up prepared train_data folder with augmented images and YOLO anotations for backup."
   ]
  },
  {
   "cell_type": "code",
   "execution_count": 12,
   "metadata": {
    "colab": {
     "base_uri": "https://localhost:8080/",
     "height": 35
    },
    "id": "IeZoMwE5UH8N",
    "outputId": "809a09c6-e8f1-43f0-f06f-8c25ff59bbe7"
   },
   "outputs": [
    {
     "data": {
      "application/vnd.google.colaboratory.intrinsic+json": {
       "type": "string"
      },
      "text/plain": [
       "'/content/train_data.zip'"
      ]
     },
     "execution_count": 12,
     "metadata": {},
     "output_type": "execute_result"
    }
   ],
   "source": [
    "import shutil\n",
    "\n",
    "shutil.make_archive(\"train_data\", \"zip\", \"/content/\", base_dir=\"train_data\")"
   ]
  },
  {
   "cell_type": "markdown",
   "metadata": {
    "id": "SRlvPZbmY9NL"
   },
   "source": [
    "Install and apply watermark"
   ]
  },
  {
   "cell_type": "code",
   "execution_count": 13,
   "metadata": {
    "colab": {
     "base_uri": "https://localhost:8080/"
    },
    "collapsed": true,
    "id": "niPYyctbUShM",
    "jupyter": {
     "outputs_hidden": true
    },
    "outputId": "b6ecb156-aab1-4422-8a63-805ad72ac8be"
   },
   "outputs": [
    {
     "name": "stdout",
     "output_type": "stream",
     "text": [
      "Looking in indexes: https://pypi.org/simple, https://us-python.pkg.dev/colab-wheels/public/simple/\n",
      "Collecting watermark\n",
      "  Downloading watermark-2.3.1-py2.py3-none-any.whl (7.2 kB)\n",
      "Requirement already satisfied: importlib-metadata>=1.4 in /usr/local/lib/python3.7/dist-packages (from watermark) (4.12.0)\n",
      "Requirement already satisfied: ipython in /usr/local/lib/python3.7/dist-packages (from watermark) (5.5.0)\n",
      "Requirement already satisfied: typing-extensions>=3.6.4 in /usr/local/lib/python3.7/dist-packages (from importlib-metadata>=1.4->watermark) (4.1.1)\n",
      "Requirement already satisfied: zipp>=0.5 in /usr/local/lib/python3.7/dist-packages (from importlib-metadata>=1.4->watermark) (3.8.1)\n",
      "Requirement already satisfied: pygments in /usr/local/lib/python3.7/dist-packages (from ipython->watermark) (2.6.1)\n",
      "Requirement already satisfied: simplegeneric>0.8 in /usr/local/lib/python3.7/dist-packages (from ipython->watermark) (0.8.1)\n",
      "Requirement already satisfied: pexpect in /usr/local/lib/python3.7/dist-packages (from ipython->watermark) (4.8.0)\n",
      "Requirement already satisfied: traitlets>=4.2 in /usr/local/lib/python3.7/dist-packages (from ipython->watermark) (5.1.1)\n",
      "Requirement already satisfied: prompt-toolkit<2.0.0,>=1.0.4 in /usr/local/lib/python3.7/dist-packages (from ipython->watermark) (1.0.18)\n",
      "Requirement already satisfied: pickleshare in /usr/local/lib/python3.7/dist-packages (from ipython->watermark) (0.7.5)\n",
      "Requirement already satisfied: decorator in /usr/local/lib/python3.7/dist-packages (from ipython->watermark) (4.4.2)\n",
      "Requirement already satisfied: setuptools>=18.5 in /usr/local/lib/python3.7/dist-packages (from ipython->watermark) (57.4.0)\n",
      "Requirement already satisfied: six>=1.9.0 in /usr/local/lib/python3.7/dist-packages (from prompt-toolkit<2.0.0,>=1.0.4->ipython->watermark) (1.15.0)\n",
      "Requirement already satisfied: wcwidth in /usr/local/lib/python3.7/dist-packages (from prompt-toolkit<2.0.0,>=1.0.4->ipython->watermark) (0.2.5)\n",
      "Requirement already satisfied: ptyprocess>=0.5 in /usr/local/lib/python3.7/dist-packages (from pexpect->ipython->watermark) (0.7.0)\n",
      "Installing collected packages: watermark\n",
      "Successfully installed watermark-2.3.1\n"
     ]
    }
   ],
   "source": [
    "!pip install watermark\n",
    "\n",
    "%load_ext watermark"
   ]
  },
  {
   "cell_type": "code",
   "execution_count": 14,
   "metadata": {
    "colab": {
     "base_uri": "https://localhost:8080/"
    },
    "id": "RfdrVMQ0UKC9",
    "outputId": "032a6db7-f935-415d-a1cd-7c37b5f55dac"
   },
   "outputs": [
    {
     "name": "stdout",
     "output_type": "stream",
     "text": [
      "Python implementation: CPython\n",
      "Python version       : 3.7.13\n",
      "IPython version      : 5.5.0\n",
      "\n",
      "albumentations        : 1.2.1\n",
      "opencv-python-headless: not installed\n",
      "imgaug                : 0.4.0\n",
      "cv2                   : 4.1.2\n",
      "\n"
     ]
    }
   ],
   "source": [
    "%watermark -v -p albumentations,opencv-python-headless,imgaug,cv2"
   ]
  }
 ],
 "metadata": {
  "colab": {
   "collapsed_sections": [],
   "name": "SciAugment_Im_YOLO_augment_toTrainTest.ipynb",
   "provenance": []
  },
  "kernelspec": {
   "display_name": "Python 3 (ipykernel)",
   "language": "python",
   "name": "python3"
  },
  "language_info": {
   "codemirror_mode": {
    "name": "ipython",
    "version": 3
   },
   "file_extension": ".py",
   "mimetype": "text/x-python",
   "name": "python",
   "nbconvert_exporter": "python",
   "pygments_lexer": "ipython3",
   "version": "3.9.18"
  }
 },
 "nbformat": 4,
 "nbformat_minor": 4
}
